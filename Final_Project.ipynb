{
  "cells": [
    {
      "cell_type": "markdown",
      "metadata": {
        "id": "view-in-github",
        "colab_type": "text"
      },
      "source": [
        "<a href=\"https://colab.research.google.com/github/Vinsonch/CSE-676-Project/blob/main/Final_Project.ipynb\" target=\"_parent\"><img src=\"https://colab.research.google.com/assets/colab-badge.svg\" alt=\"Open In Colab\"/></a>"
      ]
    },
    {
      "cell_type": "markdown",
      "metadata": {
        "id": "bagxaJBq67Nc"
      },
      "source": [
        "**Main Code: (Start from here)**"
      ]
    },
    {
      "cell_type": "code",
      "execution_count": null,
      "metadata": {
        "id": "omLIAGhGWOPr"
      },
      "outputs": [],
      "source": [
        "# Importing relevant libraries\n",
        "from keras.wrappers.scikit_learn import KerasClassifier\n",
        "from sklearn.model_selection import train_test_split\n",
        "from sklearn.preprocessing import LabelEncoder, MinMaxScaler, StandardScaler, OneHotEncoder\n",
        "import tensorflow as tf\n",
        "from sklearn.model_selection import GridSearchCV\n",
        "from tensorflow.keras import datasets, layers, models\n",
        "from tensorflow.keras.utils import to_categorical\n",
        "from sklearn.metrics import confusion_matrix\n",
        "import matplotlib.pyplot as plt\n",
        "from PIL import Image\n",
        "import pandas as pd\n",
        "import numpy as np\n",
        "import sys\n",
        "import os\n",
        "import csv\n",
        "from keras.preprocessing.image import ImageDataGenerator\n",
        "from tensorflow.keras import regularizers\n",
        "from sklearn.model_selection import KFold\n",
        "from keras.layers import Dropout"
      ]
    },
    {
      "cell_type": "code",
      "execution_count": null,
      "metadata": {
        "colab": {
          "base_uri": "https://localhost:8080/"
        },
        "id": "oVOnDqsqQSyw",
        "outputId": "2bff8164-838e-41b0-ab8a-521049d8682b"
      },
      "outputs": [
        {
          "output_type": "stream",
          "name": "stdout",
          "text": [
            "Drive already mounted at /content/drive; to attempt to forcibly remount, call drive.mount(\"/content/drive\", force_remount=True).\n"
          ]
        }
      ],
      "source": [
        "# Mounting google drive\n",
        "from google.colab import drive\n",
        "drive.mount('/content/drive')"
      ]
    },
    {
      "cell_type": "code",
      "execution_count": null,
      "metadata": {
        "id": "ngsk0_peFc1L"
      },
      "outputs": [],
      "source": [
        "#Store all images from a directory into a Python list\n",
        "def createFileList(myDir):\n",
        "    fileList = []\n",
        "    for root, dirs, files in os.walk(myDir, topdown=False):\n",
        "        for name in files:\n",
        "            fullName = os.path.join(root, name)\n",
        "            fileList.append(fullName)\n",
        "    return fileList\n",
        "\n",
        "myFileList = createFileList('/content/drive/MyDrive/all_images')\n",
        "\n",
        "#Load each image as a Pillow Image, then convert to numpy array\n",
        "#Store each numpy array in a Python list\n",
        "#Also store each label in a separate Python list\n",
        "data = [] #Samples\n",
        "labels = [] #Labels\n",
        "\n",
        "for file in myFileList:\n",
        "    name = file.split(\".\")\n",
        "    name = name[1]\n",
        "    img = Image.open(file)\n",
        "    img_array = np.asarray(img)\n",
        "    if img_array.shape==(200,200,3):\n",
        "      data.append(img_array)\n",
        "      labels.append(name)"
      ]
    },
    {
      "cell_type": "code",
      "source": [
        "# Creating an emtpty dataframe to store labels\n",
        "df=pd.DataFrame(columns=['label'])\n",
        "df['label']=labels"
      ],
      "metadata": {
        "id": "sa4LnGX4-QuP"
      },
      "execution_count": null,
      "outputs": []
    },
    {
      "cell_type": "code",
      "source": [
        "# Assigning category to labels and converting it to a numpy array\n",
        "df['label'] = df['label'].replace(['threat'], 1)\n",
        "df['label'] = df['label'].replace(['nonthreat'], 0)\n",
        "df['label'] = df['label'].astype('int')\n",
        "Y=df.to_numpy()"
      ],
      "metadata": {
        "id": "DBSNHUHY-gl8"
      },
      "execution_count": null,
      "outputs": []
    },
    {
      "cell_type": "code",
      "execution_count": null,
      "metadata": {
        "id": "GuSN88fOE4Y9"
      },
      "outputs": [],
      "source": [
        "X = np.array(data) \n",
        "#Split the image samples and labels into training and testing sets (80/20)\n",
        "train_images, test_images, train_labels, test_labels = train_test_split(X, Y, test_size=0.2, random_state=42)"
      ]
    },
    {
      "cell_type": "markdown",
      "source": [
        "# Base Model"
      ],
      "metadata": {
        "id": "1KHO0sdsqY6l"
      }
    },
    {
      "cell_type": "code",
      "execution_count": null,
      "metadata": {
        "id": "ho4itbsp7PQb"
      },
      "outputs": [],
      "source": [
        "#CNN Model\n",
        "model = models.Sequential()\n",
        "model.add(layers.Conv2D(32, (3, 3), activation='relu', input_shape=(200, 200, 3)))\n",
        "model.add(layers.MaxPooling2D((2, 2)))\n",
        "model.add(layers.Conv2D(64, (3, 3), activation='relu'))\n",
        "model.add(layers.MaxPooling2D((2, 2)))\n",
        "model.add(layers.Conv2D(64, (3, 3), activation='relu'))\n",
        "model.add(layers.Flatten())\n",
        "model.add(layers.Dense(128, activation='relu'))\n",
        "model.add(layers.Dense(1,activation='sigmoid'))\n",
        "\n",
        "model.compile(optimizer='adam',\n",
        "              loss='binary_crossentropy',\n",
        "              metrics=['accuracy'])\n",
        "\n"
      ]
    },
    {
      "cell_type": "code",
      "source": [
        "model.summary()"
      ],
      "metadata": {
        "colab": {
          "base_uri": "https://localhost:8080/"
        },
        "id": "ekew7c-eYV83",
        "outputId": "b88eb666-726d-4840-d66d-c5339da1fcda"
      },
      "execution_count": null,
      "outputs": [
        {
          "output_type": "stream",
          "name": "stdout",
          "text": [
            "Model: \"sequential_3\"\n",
            "_________________________________________________________________\n",
            " Layer (type)                Output Shape              Param #   \n",
            "=================================================================\n",
            " conv2d_6 (Conv2D)           (None, 198, 198, 32)      896       \n",
            "                                                                 \n",
            " max_pooling2d_4 (MaxPooling  (None, 99, 99, 32)       0         \n",
            " 2D)                                                             \n",
            "                                                                 \n",
            " conv2d_7 (Conv2D)           (None, 97, 97, 64)        18496     \n",
            "                                                                 \n",
            " max_pooling2d_5 (MaxPooling  (None, 48, 48, 64)       0         \n",
            " 2D)                                                             \n",
            "                                                                 \n",
            " conv2d_8 (Conv2D)           (None, 46, 46, 64)        36928     \n",
            "                                                                 \n",
            " flatten_2 (Flatten)         (None, 135424)            0         \n",
            "                                                                 \n",
            " dense_4 (Dense)             (None, 128)               17334400  \n",
            "                                                                 \n",
            " dense_5 (Dense)             (None, 1)                 129       \n",
            "                                                                 \n",
            "=================================================================\n",
            "Total params: 17,390,849\n",
            "Trainable params: 17,390,849\n",
            "Non-trainable params: 0\n",
            "_________________________________________________________________\n"
          ]
        }
      ]
    },
    {
      "cell_type": "code",
      "source": [
        "# Training the model\n",
        "history = model.fit(train_images, train_labels, epochs=10, \n",
        "                    validation_data=(test_images, test_labels))"
      ],
      "metadata": {
        "colab": {
          "base_uri": "https://localhost:8080/"
        },
        "id": "3yXe87ncYYIf",
        "outputId": "90030b74-028d-4b1a-ffd4-3e8e93d76c34"
      },
      "execution_count": null,
      "outputs": [
        {
          "output_type": "stream",
          "name": "stdout",
          "text": [
            "Epoch 1/10\n",
            "347/347 [==============================] - 40s 114ms/step - loss: 6.5129 - accuracy: 0.8999 - val_loss: 0.0448 - val_accuracy: 0.9852\n",
            "Epoch 2/10\n",
            "347/347 [==============================] - 39s 111ms/step - loss: 0.0643 - accuracy: 0.9764 - val_loss: 0.0416 - val_accuracy: 0.9863\n",
            "Epoch 3/10\n",
            "347/347 [==============================] - 39s 112ms/step - loss: 0.0449 - accuracy: 0.9837 - val_loss: 0.0322 - val_accuracy: 0.9899\n",
            "Epoch 4/10\n",
            "347/347 [==============================] - 38s 111ms/step - loss: 0.0173 - accuracy: 0.9942 - val_loss: 0.0647 - val_accuracy: 0.9827\n",
            "Epoch 5/10\n",
            "347/347 [==============================] - 38s 111ms/step - loss: 0.0896 - accuracy: 0.9703 - val_loss: 0.0602 - val_accuracy: 0.9748\n",
            "Epoch 6/10\n",
            "347/347 [==============================] - 39s 111ms/step - loss: 0.0211 - accuracy: 0.9926 - val_loss: 0.0621 - val_accuracy: 0.9773\n",
            "Epoch 7/10\n",
            "347/347 [==============================] - 38s 111ms/step - loss: 0.0166 - accuracy: 0.9963 - val_loss: 0.0198 - val_accuracy: 0.9968\n",
            "Epoch 8/10\n",
            "347/347 [==============================] - 38s 110ms/step - loss: 0.0076 - accuracy: 0.9981 - val_loss: 0.0368 - val_accuracy: 0.9939\n",
            "Epoch 9/10\n",
            "347/347 [==============================] - 38s 111ms/step - loss: 0.0209 - accuracy: 0.9938 - val_loss: 0.0525 - val_accuracy: 0.9885\n",
            "Epoch 10/10\n",
            "347/347 [==============================] - 38s 111ms/step - loss: 0.3572 - accuracy: 0.8536 - val_loss: 0.6020 - val_accuracy: 0.7204\n"
          ]
        }
      ]
    },
    {
      "cell_type": "code",
      "execution_count": null,
      "metadata": {
        "colab": {
          "base_uri": "https://localhost:8080/",
          "height": 301
        },
        "id": "o9EXCFokJboC",
        "outputId": "6e3194c9-e999-4085-a276-f608d9224850"
      },
      "outputs": [
        {
          "output_type": "execute_result",
          "data": {
            "text/plain": [
              "<matplotlib.legend.Legend at 0x7fcd50d08710>"
            ]
          },
          "metadata": {},
          "execution_count": 29
        },
        {
          "output_type": "display_data",
          "data": {
            "text/plain": [
              "<Figure size 432x288 with 1 Axes>"
            ],
            "image/png": "[encoded data removed]"
          },
          "metadata": {
            "needs_background": "light"
          }
        }
      ],
      "source": [
        "#Plot for the training and validation accuracy rates\n",
        "plt.plot(history.history['accuracy'], label='accuracy')\n",
        "plt.plot(history.history['val_accuracy'], label = 'val_accuracy')\n",
        "plt.xlabel('Epoch')\n",
        "plt.ylabel('Accuracy')\n",
        "plt.ylim([0.9, 1])\n",
        "plt.legend(loc='lower right')"
      ]
    },
    {
      "cell_type": "code",
      "execution_count": null,
      "metadata": {
        "colab": {
          "base_uri": "https://localhost:8080/",
          "height": 279
        },
        "id": "4PaZBbgcbB04",
        "outputId": "f5df3ab8-062c-4b01-b9e6-7bc9d6b60ae7"
      },
      "outputs": [
        {
          "output_type": "display_data",
          "data": {
            "text/plain": [
              "<Figure size 432x288 with 1 Axes>"
            ],
            "image/png": "[encoded data removed]"
          },
          "metadata": {
            "needs_background": "light"
          }
        }
      ],
      "source": [
        "#Plot for the training and validation loss\n",
        "plt.plot(history.history['loss'], label='loss')\n",
        "plt.plot(history.history['val_loss'], label = 'val_loss')\n",
        "plt.xlabel('Epoch')\n",
        "plt.ylabel('Loss')\n",
        "plt.legend(loc='upper right')\n",
        "plt.show()"
      ]
    },
    {
      "cell_type": "code",
      "source": [
        "# Calculate test error\n",
        "test_error = model.evaluate(test_images, test_labels, verbose = 0)\n",
        "print(f'Test Set Accuracy: {round(test_error[1] * 100, 2)}%')\n",
        "print(f'Test Set Loss: {round(test_error[0], 2)}')"
      ],
      "metadata": {
        "colab": {
          "base_uri": "https://localhost:8080/"
        },
        "id": "Jw119SwEHDoa",
        "outputId": "ed1389d9-9312-4e75-b6a4-6993e4e23d2e"
      },
      "execution_count": null,
      "outputs": [
        {
          "output_type": "stream",
          "name": "stdout",
          "text": [
            "Test Set Accuracy: 72.04%\n",
            "Test Set Loss: 0.6\n"
          ]
        }
      ]
    },
    {
      "cell_type": "markdown",
      "source": [
        "# Hyperparameter Tuning of the model."
      ],
      "metadata": {
        "id": "Tx8Vm4x_qkDD"
      }
    },
    {
      "cell_type": "markdown",
      "source": [
        "# L1 Regularizer\n",
        "## lambda = 0.01"
      ],
      "metadata": {
        "id": "6Bm4DeqNPt03"
      }
    },
    {
      "cell_type": "code",
      "source": [
        "#CNN Model\n",
        "model = models.Sequential()\n",
        "model.add(layers.Conv2D(32, (3, 3), activation='relu',padding = 'valid',\n",
        "        kernel_regularizer=regularizers.L1(0.01),\n",
        "         input_shape=(200, 200, 3)))\n",
        "model.add(layers.MaxPooling2D((2, 2)))\n",
        "model.add(layers.Conv2D(64, (3, 3), activation='relu'))\n",
        "model.add(layers.MaxPooling2D((2, 2)))\n",
        "model.add(layers.Conv2D(64, (3, 3), activation='relu'))\n",
        "model.add(layers.Flatten())\n",
        "model.add(layers.Dense(128, activation='relu'))\n",
        "model.add(layers.Dense(1,activation='sigmoid'))\n",
        "\n",
        "model.compile(optimizer='adam',\n",
        "              loss='binary_crossentropy',\n",
        "              metrics=['accuracy'])\n",
        "\n"
      ],
      "metadata": {
        "id": "rS4LTKjxdu8R"
      },
      "execution_count": null,
      "outputs": []
    },
    {
      "cell_type": "code",
      "source": [
        "model.summary()"
      ],
      "metadata": {
        "colab": {
          "base_uri": "https://localhost:8080/"
        },
        "outputId": "20aae2b5-4254-4ff6-c2ed-2caee71dcef3",
        "id": "oT-4ZLnNdu8R"
      },
      "execution_count": null,
      "outputs": [
        {
          "output_type": "stream",
          "name": "stdout",
          "text": [
            "Model: \"sequential_4\"\n",
            "_________________________________________________________________\n",
            " Layer (type)                Output Shape              Param #   \n",
            "=================================================================\n",
            " conv2d_9 (Conv2D)           (None, 198, 198, 32)      896       \n",
            "                                                                 \n",
            " max_pooling2d_6 (MaxPooling  (None, 99, 99, 32)       0         \n",
            " 2D)                                                             \n",
            "                                                                 \n",
            " conv2d_10 (Conv2D)          (None, 97, 97, 64)        18496     \n",
            "                                                                 \n",
            " max_pooling2d_7 (MaxPooling  (None, 48, 48, 64)       0         \n",
            " 2D)                                                             \n",
            "                                                                 \n",
            " conv2d_11 (Conv2D)          (None, 46, 46, 64)        36928     \n",
            "                                                                 \n",
            " flatten_3 (Flatten)         (None, 135424)            0         \n",
            "                                                                 \n",
            " dense_6 (Dense)             (None, 128)               17334400  \n",
            "                                                                 \n",
            " dense_7 (Dense)             (None, 1)                 129       \n",
            "                                                                 \n",
            "=================================================================\n",
            "Total params: 17,390,849\n",
            "Trainable params: 17,390,849\n",
            "Non-trainable params: 0\n",
            "_________________________________________________________________\n"
          ]
        }
      ]
    },
    {
      "cell_type": "code",
      "source": [
        "# Traning the model\n",
        "history = model.fit(train_images, train_labels, epochs=10, \n",
        "                    validation_data=(test_images, test_labels))"
      ],
      "metadata": {
        "colab": {
          "base_uri": "https://localhost:8080/"
        },
        "outputId": "c72e4695-a053-4e2e-d8b6-d745b5d09888",
        "id": "PhKcRKW5du8S"
      },
      "execution_count": null,
      "outputs": [
        {
          "output_type": "stream",
          "name": "stdout",
          "text": [
            "Epoch 1/10\n",
            "347/347 [==============================] - 40s 112ms/step - loss: 11.9156 - accuracy: 0.8588 - val_loss: 0.7290 - val_accuracy: 0.9124\n",
            "Epoch 2/10\n",
            "347/347 [==============================] - 38s 111ms/step - loss: 0.5298 - accuracy: 0.9603 - val_loss: 0.5610 - val_accuracy: 0.9218\n",
            "Epoch 3/10\n",
            "347/347 [==============================] - 38s 110ms/step - loss: 0.4250 - accuracy: 0.9775 - val_loss: 0.4813 - val_accuracy: 0.9535\n",
            "Epoch 4/10\n",
            "347/347 [==============================] - 38s 110ms/step - loss: 0.3800 - accuracy: 0.9825 - val_loss: 0.4423 - val_accuracy: 0.9654\n",
            "Epoch 5/10\n",
            "347/347 [==============================] - 39s 111ms/step - loss: 0.3124 - accuracy: 0.9950 - val_loss: 0.4809 - val_accuracy: 0.9532\n",
            "Epoch 6/10\n",
            "347/347 [==============================] - 38s 110ms/step - loss: 0.2872 - accuracy: 0.9973 - val_loss: 0.3881 - val_accuracy: 0.9726\n",
            "Epoch 7/10\n",
            "347/347 [==============================] - 38s 111ms/step - loss: 0.2945 - accuracy: 0.9932 - val_loss: 0.6237 - val_accuracy: 0.9330\n",
            "Epoch 8/10\n",
            "347/347 [==============================] - 38s 110ms/step - loss: 0.3257 - accuracy: 0.9855 - val_loss: 0.4091 - val_accuracy: 0.9622\n",
            "Epoch 9/10\n",
            "347/347 [==============================] - 38s 111ms/step - loss: 0.2786 - accuracy: 0.9940 - val_loss: 0.4177 - val_accuracy: 0.9629\n",
            "Epoch 10/10\n",
            "347/347 [==============================] - 38s 111ms/step - loss: 0.2368 - accuracy: 0.9988 - val_loss: 0.4170 - val_accuracy: 0.9625\n"
          ]
        }
      ]
    },
    {
      "cell_type": "code",
      "source": [
        "#Plot for the training and validation accuracy rates\n",
        "plt.plot(history.history['accuracy'], label='accuracy')\n",
        "plt.plot(history.history['val_accuracy'], label = 'val_accuracy')\n",
        "plt.xlabel('Epoch')\n",
        "plt.ylabel('Accuracy')\n",
        "plt.ylim([0.9, 1])\n",
        "plt.legend(loc='lower right')"
      ],
      "metadata": {
        "colab": {
          "base_uri": "https://localhost:8080/",
          "height": 301
        },
        "id": "nGEPk86SdohB",
        "outputId": "58c6e1d3-5ff9-42ac-9322-5aaa5ca1ab02"
      },
      "execution_count": null,
      "outputs": [
        {
          "output_type": "execute_result",
          "data": {
            "text/plain": [
              "<matplotlib.legend.Legend at 0x7fcdc01d9850>"
            ]
          },
          "metadata": {},
          "execution_count": 35
        },
        {
          "output_type": "display_data",
          "data": {
            "text/plain": [
              "<Figure size 432x288 with 1 Axes>"
            ],
            "image/png": "[encoded data removed]"
          },
          "metadata": {
            "needs_background": "light"
          }
        }
      ]
    },
    {
      "cell_type": "code",
      "source": [
        "#Plot for the training and validation loss\n",
        "plt.plot(history.history['loss'], label='loss')\n",
        "plt.plot(history.history['val_loss'], label = 'val_loss')\n",
        "plt.xlabel('Epoch')\n",
        "plt.ylabel('Loss')\n",
        "plt.legend(loc='upper right')\n",
        "plt.show()"
      ],
      "metadata": {
        "colab": {
          "base_uri": "https://localhost:8080/",
          "height": 279
        },
        "id": "l1SqISrbdoeq",
        "outputId": "c0426405-5e50-4b0c-e41c-db4c5e1fd758"
      },
      "execution_count": null,
      "outputs": [
        {
          "output_type": "display_data",
          "data": {
            "text/plain": [
              "<Figure size 432x288 with 1 Axes>"
            ],
            "image/png": "[encoded data removed]"
          },
          "metadata": {
            "needs_background": "light"
          }
        }
      ]
    },
    {
      "cell_type": "code",
      "source": [
        "# Calculate test error\n",
        "test_error = model.evaluate(test_images, test_labels, verbose = 0)\n",
        "print(f'Test Set Accuracy: {round(test_error[1] * 100, 2)}%')\n",
        "print(f'Test Set Loss: {round(test_error[0], 2)}')"
      ],
      "metadata": {
        "colab": {
          "base_uri": "https://localhost:8080/"
        },
        "id": "N1XYEoMuGxIE",
        "outputId": "cd9b82da-ef60-4703-9eb3-1ce6028aefaa"
      },
      "execution_count": null,
      "outputs": [
        {
          "output_type": "stream",
          "name": "stdout",
          "text": [
            "Test Set Accuracy: 96.25%\n",
            "Test Set Loss: 0.42\n"
          ]
        }
      ]
    },
    {
      "cell_type": "code",
      "source": [
        "# Initialize early stopping\n",
        "callback = tf.keras.callbacks.EarlyStopping(monitor = 'loss', patience = 3)\n"
      ],
      "metadata": {
        "id": "a5G5N7GOiBsi"
      },
      "execution_count": null,
      "outputs": []
    },
    {
      "cell_type": "markdown",
      "source": [
        "# Dropout"
      ],
      "metadata": {
        "id": "-Qyem3WrP3RZ"
      }
    },
    {
      "cell_type": "code",
      "source": [
        "#CNN Model\n",
        "model = models.Sequential()\n",
        "model.add(layers.Conv2D(32, (3, 3), activation='relu',padding = 'same',\n",
        "         input_shape=(200, 200, 3)))\n",
        "model.add(layers.MaxPooling2D((2, 2)))\n",
        "model.add(Dropout(0.2))\n",
        "model.add(layers.Conv2D(64, (3, 3), activation='relu'))\n",
        "model.add(layers.MaxPooling2D((2, 2)))\n",
        "model.add(Dropout(0.2))\n",
        "model.add(layers.Conv2D(64, (3, 3), activation='relu'))\n",
        "model.add(layers.Flatten())\n",
        "model.add(Dropout(0.2))\n",
        "model.add(layers.Dense(128, activation='relu'))\n",
        "model.add(layers.Dense(1,activation='sigmoid'))\n",
        "\n",
        "model.compile(optimizer='adam',\n",
        "              loss='binary_crossentropy',\n",
        "              metrics=['accuracy'])\n",
        "\n"
      ],
      "metadata": {
        "id": "yxgOpjeeHcSg"
      },
      "execution_count": null,
      "outputs": []
    },
    {
      "cell_type": "code",
      "source": [
        "model.summary()"
      ],
      "metadata": {
        "colab": {
          "base_uri": "https://localhost:8080/"
        },
        "outputId": "35264890-db72-4047-f9d2-cf449a27e219",
        "id": "s1mWdVlCHcSh"
      },
      "execution_count": null,
      "outputs": [
        {
          "output_type": "stream",
          "name": "stdout",
          "text": [
            "Model: \"sequential\"\n",
            "_________________________________________________________________\n",
            " Layer (type)                Output Shape              Param #   \n",
            "=================================================================\n",
            " conv2d (Conv2D)             (None, 200, 200, 32)      896       \n",
            "                                                                 \n",
            " max_pooling2d (MaxPooling2D  (None, 100, 100, 32)     0         \n",
            " )                                                               \n",
            "                                                                 \n",
            " dropout (Dropout)           (None, 100, 100, 32)      0         \n",
            "                                                                 \n",
            " conv2d_1 (Conv2D)           (None, 98, 98, 64)        18496     \n",
            "                                                                 \n",
            " max_pooling2d_1 (MaxPooling  (None, 49, 49, 64)       0         \n",
            " 2D)                                                             \n",
            "                                                                 \n",
            " dropout_1 (Dropout)         (None, 49, 49, 64)        0         \n",
            "                                                                 \n",
            " conv2d_2 (Conv2D)           (None, 47, 47, 64)        36928     \n",
            "                                                                 \n",
            " flatten (Flatten)           (None, 141376)            0         \n",
            "                                                                 \n",
            " dropout_2 (Dropout)         (None, 141376)            0         \n",
            "                                                                 \n",
            " dense (Dense)               (None, 128)               18096256  \n",
            "                                                                 \n",
            " dense_1 (Dense)             (None, 1)                 129       \n",
            "                                                                 \n",
            "=================================================================\n",
            "Total params: 18,152,705\n",
            "Trainable params: 18,152,705\n",
            "Non-trainable params: 0\n",
            "_________________________________________________________________\n"
          ]
        }
      ]
    },
    {
      "cell_type": "code",
      "source": [
        "history = model.fit(train_images, train_labels, epochs=10, \n",
        "                    validation_data=(test_images, test_labels))"
      ],
      "metadata": {
        "colab": {
          "base_uri": "https://localhost:8080/"
        },
        "outputId": "21a0ddac-9fbf-4da8-b636-fb4a3f375013",
        "id": "dBo0oeAsHcSi"
      },
      "execution_count": null,
      "outputs": [
        {
          "output_type": "stream",
          "name": "stdout",
          "text": [
            "Epoch 1/10\n",
            "347/347 [==============================] - 54s 127ms/step - loss: 10.4821 - accuracy: 0.8355 - val_loss: 0.4615 - val_accuracy: 0.8854\n",
            "Epoch 2/10\n",
            "347/347 [==============================] - 42s 122ms/step - loss: 0.1587 - accuracy: 0.9495 - val_loss: 0.4267 - val_accuracy: 0.8865\n",
            "Epoch 3/10\n",
            "347/347 [==============================] - 42s 122ms/step - loss: 0.0840 - accuracy: 0.9746 - val_loss: 0.1380 - val_accuracy: 0.9546\n",
            "Epoch 4/10\n",
            "347/347 [==============================] - 42s 122ms/step - loss: 0.0647 - accuracy: 0.9817 - val_loss: 0.1465 - val_accuracy: 0.9643\n",
            "Epoch 5/10\n",
            "347/347 [==============================] - 42s 122ms/step - loss: 0.0659 - accuracy: 0.9817 - val_loss: 0.4984 - val_accuracy: 0.8926\n",
            "Epoch 6/10\n",
            "347/347 [==============================] - 42s 122ms/step - loss: 0.0121 - accuracy: 0.9962 - val_loss: 0.1378 - val_accuracy: 0.9748\n",
            "Epoch 7/10\n",
            "347/347 [==============================] - 42s 122ms/step - loss: 0.0073 - accuracy: 0.9981 - val_loss: 0.0853 - val_accuracy: 0.9823\n",
            "Epoch 8/10\n",
            "347/347 [==============================] - 44s 127ms/step - loss: 0.0427 - accuracy: 0.9883 - val_loss: 0.1196 - val_accuracy: 0.9715\n",
            "Epoch 9/10\n",
            "347/347 [==============================] - 42s 122ms/step - loss: 0.0236 - accuracy: 0.9946 - val_loss: 0.4344 - val_accuracy: 0.9380\n",
            "Epoch 10/10\n",
            "347/347 [==============================] - 42s 122ms/step - loss: 0.0325 - accuracy: 0.9896 - val_loss: 0.5931 - val_accuracy: 0.9106\n"
          ]
        }
      ]
    },
    {
      "cell_type": "code",
      "source": [
        "#Plot for the training and validation accuracy rates\n",
        "plt.plot(history.history['accuracy'], label='accuracy')\n",
        "plt.plot(history.history['val_accuracy'], label = 'val_accuracy')\n",
        "plt.xlabel('Epoch')\n",
        "plt.ylabel('Accuracy')\n",
        "plt.ylim([0.5, 1])\n",
        "plt.legend(loc='lower right')"
      ],
      "metadata": {
        "colab": {
          "base_uri": "https://localhost:8080/",
          "height": 301
        },
        "outputId": "07781b95-8570-4450-96b9-ddb2d745e679",
        "id": "-HCB15beHcSi"
      },
      "execution_count": null,
      "outputs": [
        {
          "output_type": "execute_result",
          "data": {
            "text/plain": [
              "<matplotlib.legend.Legend at 0x7f4d9125ed90>"
            ]
          },
          "metadata": {},
          "execution_count": 11
        },
        {
          "output_type": "display_data",
          "data": {
            "text/plain": [
              "<Figure size 432x288 with 1 Axes>"
            ],
            "image/png": "[encoded data removed]"
          },
          "metadata": {
            "needs_background": "light"
          }
        }
      ]
    },
    {
      "cell_type": "code",
      "source": [
        "#Plot for the training and validation loss\n",
        "plt.plot(history.history['loss'], label='loss')\n",
        "plt.plot(history.history['val_loss'], label = 'val_loss')\n",
        "plt.xlabel('Epoch')\n",
        "plt.ylabel('Loss')\n",
        "plt.legend(loc='upper right')\n",
        "plt.show()"
      ],
      "metadata": {
        "colab": {
          "base_uri": "https://localhost:8080/",
          "height": 279
        },
        "outputId": "60fdcbf5-e027-4cdf-a9de-ae7bf3c27ec8",
        "id": "PLIITFSYHcSi"
      },
      "execution_count": null,
      "outputs": [
        {
          "output_type": "display_data",
          "data": {
            "text/plain": [
              "<Figure size 432x288 with 1 Axes>"
            ],
            "image/png": "[encoded data removed]"
          },
          "metadata": {
            "needs_background": "light"
          }
        }
      ]
    },
    {
      "cell_type": "code",
      "source": [
        "# Calculate test error\n",
        "test_error = model.evaluate(test_images, test_labels, verbose = 0)\n",
        "print(f'Test Set Accuracy: {round(test_error[1] * 100, 2)}%')\n",
        "print(f'Test Set Loss: {round(test_error[0], 2)}')"
      ],
      "metadata": {
        "colab": {
          "base_uri": "https://localhost:8080/"
        },
        "id": "G5ROZ69xH4bF",
        "outputId": "46026bb0-c3d4-4177-864c-5ab19f6bdac7"
      },
      "execution_count": null,
      "outputs": [
        {
          "output_type": "stream",
          "name": "stdout",
          "text": [
            "Test Set Accuracy: 91.06%\n",
            "Test Set Loss: 0.59\n"
          ]
        }
      ]
    },
    {
      "cell_type": "markdown",
      "source": [
        "# L2 Regularizer\n",
        "## lambda = 0.01"
      ],
      "metadata": {
        "id": "EIv6gN9QU53e"
      }
    },
    {
      "cell_type": "code",
      "source": [
        "#CNN Model\n",
        "model = models.Sequential()\n",
        "model.add(layers.Conv2D(32, (3, 3), activation='relu',padding = 'same',\n",
        "        kernel_regularizer=regularizers.L2(0.01),\n",
        "         input_shape=(200, 200, 3)))\n",
        "model.add(layers.MaxPooling2D((2, 2)))\n",
        "model.add(layers.Conv2D(64, (3, 3), activation='relu'))\n",
        "model.add(layers.MaxPooling2D((2, 2)))\n",
        "model.add(layers.Conv2D(64, (3, 3), activation='relu'))\n",
        "model.add(layers.Flatten())\n",
        "model.add(layers.Dense(128, activation='relu'))\n",
        "model.add(layers.Dense(1,activation='sigmoid'))\n",
        "\n",
        "model.compile(optimizer='adam',\n",
        "              loss='binary_crossentropy',\n",
        "              metrics=['accuracy'])\n",
        "\n"
      ],
      "metadata": {
        "id": "l8QW0fs4Me3_"
      },
      "execution_count": null,
      "outputs": []
    },
    {
      "cell_type": "code",
      "source": [
        "model.summary()"
      ],
      "metadata": {
        "colab": {
          "base_uri": "https://localhost:8080/"
        },
        "outputId": "4f3abab6-1582-4e52-de5d-0639cb218fd2",
        "id": "ROKL2FENMe3_"
      },
      "execution_count": null,
      "outputs": [
        {
          "output_type": "stream",
          "name": "stdout",
          "text": [
            "Model: \"sequential_1\"\n",
            "_________________________________________________________________\n",
            " Layer (type)                Output Shape              Param #   \n",
            "=================================================================\n",
            " conv2d_3 (Conv2D)           (None, 200, 200, 32)      896       \n",
            "                                                                 \n",
            " max_pooling2d_2 (MaxPooling  (None, 100, 100, 32)     0         \n",
            " 2D)                                                             \n",
            "                                                                 \n",
            " conv2d_4 (Conv2D)           (None, 98, 98, 64)        18496     \n",
            "                                                                 \n",
            " max_pooling2d_3 (MaxPooling  (None, 49, 49, 64)       0         \n",
            " 2D)                                                             \n",
            "                                                                 \n",
            " conv2d_5 (Conv2D)           (None, 47, 47, 64)        36928     \n",
            "                                                                 \n",
            " flatten_1 (Flatten)         (None, 141376)            0         \n",
            "                                                                 \n",
            " dense_2 (Dense)             (None, 128)               18096256  \n",
            "                                                                 \n",
            " dense_3 (Dense)             (None, 1)                 129       \n",
            "                                                                 \n",
            "=================================================================\n",
            "Total params: 18,152,705\n",
            "Trainable params: 18,152,705\n",
            "Non-trainable params: 0\n",
            "_________________________________________________________________\n"
          ]
        }
      ]
    },
    {
      "cell_type": "code",
      "source": [
        "# Training the model\n",
        "history = model.fit(train_images, train_labels, epochs=10, \n",
        "                    validation_data=(test_images, test_labels))"
      ],
      "metadata": {
        "colab": {
          "base_uri": "https://localhost:8080/"
        },
        "outputId": "9e88a283-3ff7-435b-cfa2-edea1a5549c4",
        "id": "pV5yQ9QuMe3_"
      },
      "execution_count": null,
      "outputs": [
        {
          "output_type": "stream",
          "name": "stdout",
          "text": [
            "Epoch 1/10\n",
            "347/347 [==============================] - 41s 115ms/step - loss: 11.4838 - accuracy: 0.9095 - val_loss: 0.2009 - val_accuracy: 0.9409\n",
            "Epoch 2/10\n",
            "347/347 [==============================] - 39s 112ms/step - loss: 0.0956 - accuracy: 0.9846 - val_loss: 0.0996 - val_accuracy: 0.9827\n",
            "Epoch 3/10\n",
            "347/347 [==============================] - 39s 112ms/step - loss: 0.0891 - accuracy: 0.9877 - val_loss: 0.1292 - val_accuracy: 0.9766\n",
            "Epoch 4/10\n",
            "347/347 [==============================] - 39s 112ms/step - loss: 0.0719 - accuracy: 0.9928 - val_loss: 0.0833 - val_accuracy: 0.9903\n",
            "Epoch 5/10\n",
            "347/347 [==============================] - 39s 112ms/step - loss: 0.0537 - accuracy: 0.9977 - val_loss: 0.0672 - val_accuracy: 0.9942\n",
            "Epoch 6/10\n",
            "347/347 [==============================] - 39s 112ms/step - loss: 0.1792 - accuracy: 0.9660 - val_loss: 0.5661 - val_accuracy: 0.8670\n",
            "Epoch 7/10\n",
            "347/347 [==============================] - 39s 112ms/step - loss: 0.2861 - accuracy: 0.9407 - val_loss: 0.2301 - val_accuracy: 0.9409\n",
            "Epoch 8/10\n",
            "347/347 [==============================] - 39s 111ms/step - loss: 0.1247 - accuracy: 0.9760 - val_loss: 0.1515 - val_accuracy: 0.9705\n",
            "Epoch 9/10\n",
            "347/347 [==============================] - 39s 112ms/step - loss: 0.0754 - accuracy: 0.9922 - val_loss: 0.1388 - val_accuracy: 0.9787\n",
            "Epoch 10/10\n",
            "347/347 [==============================] - 39s 112ms/step - loss: 0.0964 - accuracy: 0.9871 - val_loss: 0.3024 - val_accuracy: 0.9405\n"
          ]
        }
      ]
    },
    {
      "cell_type": "code",
      "source": [
        "#Plot for the training and validation accuracy rates\n",
        "plt.plot(history.history['accuracy'], label='accuracy')\n",
        "plt.plot(history.history['val_accuracy'], label = 'val_accuracy')\n",
        "plt.xlabel('Epoch')\n",
        "plt.ylabel('Accuracy')\n",
        "plt.ylim([0.9, 1])\n",
        "plt.legend(loc='lower right')"
      ],
      "metadata": {
        "colab": {
          "base_uri": "https://localhost:8080/",
          "height": 301
        },
        "outputId": "c4a3456b-7dbe-47b8-c6ea-e809870dd1b0",
        "id": "h09FfM7VMe3_"
      },
      "execution_count": null,
      "outputs": [
        {
          "output_type": "execute_result",
          "data": {
            "text/plain": [
              "<matplotlib.legend.Legend at 0x7f4d90c8f350>"
            ]
          },
          "metadata": {},
          "execution_count": 17
        },
        {
          "output_type": "display_data",
          "data": {
            "text/plain": [
              "<Figure size 432x288 with 1 Axes>"
            ],
            "image/png": "[encoded data removed]"
          },
          "metadata": {
            "needs_background": "light"
          }
        }
      ]
    },
    {
      "cell_type": "code",
      "source": [
        "#Plot for the training and validation loss\n",
        "plt.plot(history.history['loss'], label='loss')\n",
        "plt.plot(history.history['val_loss'], label = 'val_loss')\n",
        "plt.xlabel('Epoch')\n",
        "plt.ylabel('Loss')\n",
        "plt.legend(loc='upper right')\n",
        "plt.show()"
      ],
      "metadata": {
        "colab": {
          "base_uri": "https://localhost:8080/",
          "height": 282
        },
        "outputId": "0bdffbe1-49cb-4721-c56b-d83146a849c4",
        "id": "FjCBp_ORMe3_"
      },
      "execution_count": null,
      "outputs": [
        {
          "output_type": "display_data",
          "data": {
            "text/plain": [
              "<Figure size 432x288 with 1 Axes>"
            ],
            "image/png": "[encoded data removed]"
          },
          "metadata": {
            "needs_background": "light"
          }
        }
      ]
    },
    {
      "cell_type": "code",
      "source": [
        "# Calculate test error\n",
        "test_error = model.evaluate(test_images, test_labels, verbose = 0)\n",
        "print(f'Test Set Accuracy: {round(test_error[1] * 100, 2)}%')\n",
        "print(f'Test Set Loss: {round(test_error[0], 2)}')"
      ],
      "metadata": {
        "colab": {
          "base_uri": "https://localhost:8080/"
        },
        "id": "qVROYS_2P8jN",
        "outputId": "94022899-07e6-4720-f276-93449332dc1d"
      },
      "execution_count": null,
      "outputs": [
        {
          "output_type": "stream",
          "name": "stdout",
          "text": [
            "Test Set Accuracy: 94.05%\n",
            "Test Set Loss: 0.3\n"
          ]
        }
      ]
    },
    {
      "cell_type": "markdown",
      "source": [
        "# EarlyStopping"
      ],
      "metadata": {
        "id": "hvPz8IGrVc8I"
      }
    },
    {
      "cell_type": "code",
      "source": [
        "# Initializeing early stopping\n",
        "callback = tf.keras.callbacks.EarlyStopping(monitor = 'loss', patience = 3)\n"
      ],
      "metadata": {
        "id": "x-M-qwLAVIBV"
      },
      "execution_count": null,
      "outputs": []
    },
    {
      "cell_type": "code",
      "source": [
        "#CNN Model\n",
        "model = models.Sequential()\n",
        "model.add(layers.Conv2D(32, (3, 3), activation='relu',padding = 'same',\n",
        "         input_shape=(200, 200, 3)))\n",
        "model.add(layers.MaxPooling2D((2, 2)))\n",
        "model.add(layers.Conv2D(64, (3, 3), activation='relu'))\n",
        "model.add(layers.MaxPooling2D((2, 2)))\n",
        "model.add(layers.Conv2D(64, (3, 3), activation='relu'))\n",
        "model.add(layers.Flatten())\n",
        "model.add(layers.Dense(128, activation='relu'))\n",
        "model.add(layers.Dense(1,activation='sigmoid'))\n",
        "\n",
        "model.compile(optimizer='adam',\n",
        "              loss='binary_crossentropy',\n",
        "              metrics=['accuracy'])\n",
        "\n"
      ],
      "metadata": {
        "id": "EErb1FdwVIbR"
      },
      "execution_count": null,
      "outputs": []
    },
    {
      "cell_type": "code",
      "source": [
        "model.summary()"
      ],
      "metadata": {
        "colab": {
          "base_uri": "https://localhost:8080/"
        },
        "outputId": "b4bfe483-3f06-4f70-ee0f-813ab3b406d9",
        "id": "oClKHzCaVIbR"
      },
      "execution_count": null,
      "outputs": [
        {
          "output_type": "stream",
          "name": "stdout",
          "text": [
            "Model: \"sequential_4\"\n",
            "_________________________________________________________________\n",
            " Layer (type)                Output Shape              Param #   \n",
            "=================================================================\n",
            " conv2d_12 (Conv2D)          (None, 200, 200, 32)      896       \n",
            "                                                                 \n",
            " max_pooling2d_8 (MaxPooling  (None, 100, 100, 32)     0         \n",
            " 2D)                                                             \n",
            "                                                                 \n",
            " conv2d_13 (Conv2D)          (None, 98, 98, 64)        18496     \n",
            "                                                                 \n",
            " max_pooling2d_9 (MaxPooling  (None, 49, 49, 64)       0         \n",
            " 2D)                                                             \n",
            "                                                                 \n",
            " conv2d_14 (Conv2D)          (None, 47, 47, 64)        36928     \n",
            "                                                                 \n",
            " flatten_4 (Flatten)         (None, 141376)            0         \n",
            "                                                                 \n",
            " dense_8 (Dense)             (None, 128)               18096256  \n",
            "                                                                 \n",
            " dense_9 (Dense)             (None, 1)                 129       \n",
            "                                                                 \n",
            "=================================================================\n",
            "Total params: 18,152,705\n",
            "Trainable params: 18,152,705\n",
            "Non-trainable params: 0\n",
            "_________________________________________________________________\n"
          ]
        }
      ]
    },
    {
      "cell_type": "code",
      "source": [
        "# Traning the model\n",
        "history = model.fit(train_images, train_labels, epochs=10, \n",
        "                    validation_data=(test_images, test_labels),callbacks = [callback])"
      ],
      "metadata": {
        "colab": {
          "base_uri": "https://localhost:8080/"
        },
        "outputId": "38b9538e-13a8-424c-957e-91e4eaa8b8e0",
        "id": "OLCMcFsKVIbR"
      },
      "execution_count": null,
      "outputs": [
        {
          "output_type": "stream",
          "name": "stdout",
          "text": [
            "Epoch 1/10\n",
            "347/347 [==============================] - 41s 114ms/step - loss: 9.8130 - accuracy: 0.8965 - val_loss: 0.1901 - val_accuracy: 0.9308\n",
            "Epoch 2/10\n",
            "347/347 [==============================] - 39s 112ms/step - loss: 0.1496 - accuracy: 0.9521 - val_loss: 0.1153 - val_accuracy: 0.9578\n",
            "Epoch 3/10\n",
            "347/347 [==============================] - 39s 113ms/step - loss: 0.1021 - accuracy: 0.9735 - val_loss: 0.0873 - val_accuracy: 0.9715\n",
            "Epoch 4/10\n",
            "347/347 [==============================] - 39s 113ms/step - loss: 0.0760 - accuracy: 0.9790 - val_loss: 0.1092 - val_accuracy: 0.9658\n",
            "Epoch 5/10\n",
            "347/347 [==============================] - 39s 112ms/step - loss: 0.0365 - accuracy: 0.9912 - val_loss: 0.2334 - val_accuracy: 0.9427\n",
            "Epoch 6/10\n",
            "347/347 [==============================] - 39s 111ms/step - loss: 0.0330 - accuracy: 0.9913 - val_loss: 0.1020 - val_accuracy: 0.9751\n",
            "Epoch 7/10\n",
            "347/347 [==============================] - 39s 112ms/step - loss: 0.0036 - accuracy: 0.9994 - val_loss: 0.2186 - val_accuracy: 0.9600\n",
            "Epoch 8/10\n",
            "347/347 [==============================] - 39s 112ms/step - loss: 0.0026 - accuracy: 0.9995 - val_loss: 0.0881 - val_accuracy: 0.9805\n",
            "Epoch 9/10\n",
            "347/347 [==============================] - 39s 112ms/step - loss: 4.2120e-04 - accuracy: 1.0000 - val_loss: 0.0936 - val_accuracy: 0.9823\n",
            "Epoch 10/10\n",
            "347/347 [==============================] - 39s 112ms/step - loss: 1.0744e-04 - accuracy: 1.0000 - val_loss: 0.0927 - val_accuracy: 0.9852\n"
          ]
        }
      ]
    },
    {
      "cell_type": "code",
      "source": [
        "#Plot for the training and validation accuracy rates\n",
        "plt.plot(history.history['accuracy'], label='accuracy')\n",
        "plt.plot(history.history['val_accuracy'], label = 'val_accuracy')\n",
        "plt.xlabel('Epoch')\n",
        "plt.ylabel('Accuracy')\n",
        "plt.ylim([0.9, 1])\n",
        "plt.legend(loc='lower right')"
      ],
      "metadata": {
        "colab": {
          "base_uri": "https://localhost:8080/",
          "height": 301
        },
        "outputId": "1f821384-7be0-4c55-bad4-b681362d46c6",
        "id": "RBMWS9nHVIbR"
      },
      "execution_count": null,
      "outputs": [
        {
          "output_type": "execute_result",
          "data": {
            "text/plain": [
              "<matplotlib.legend.Legend at 0x7f4d8f894650>"
            ]
          },
          "metadata": {},
          "execution_count": 26
        },
        {
          "output_type": "display_data",
          "data": {
            "text/plain": [
              "<Figure size 432x288 with 1 Axes>"
            ],
            "image/png": "[encoded data removed]"
          },
          "metadata": {
            "needs_background": "light"
          }
        }
      ]
    },
    {
      "cell_type": "code",
      "source": [
        "#Plot for the training and validation loss\n",
        "plt.plot(history.history['loss'], label='loss')\n",
        "plt.plot(history.history['val_loss'], label = 'val_loss')\n",
        "plt.xlabel('Epoch')\n",
        "plt.ylabel('Loss')\n",
        "plt.ylim([0.0001, 1])\n",
        "plt.legend(loc='upper right')\n",
        "plt.show()"
      ],
      "metadata": {
        "colab": {
          "base_uri": "https://localhost:8080/",
          "height": 283
        },
        "outputId": "94686e25-17a2-4ceb-fb56-63f31bd3ef1a",
        "id": "4V-VES3DVIbR"
      },
      "execution_count": null,
      "outputs": [
        {
          "output_type": "display_data",
          "data": {
            "text/plain": [
              "<Figure size 432x288 with 1 Axes>"
            ],
            "image/png": "[encoded data removed]"
          },
          "metadata": {
            "needs_background": "light"
          }
        }
      ]
    },
    {
      "cell_type": "code",
      "source": [
        "# Calculate test error\n",
        "test_error = model.evaluate(test_images, test_labels, verbose = 0)\n",
        "print(f'Test Set Accuracy: {round(test_error[1] * 100, 2)}%')\n",
        "print(f'Test Set Loss: {round(test_error[0], 2)}')"
      ],
      "metadata": {
        "colab": {
          "base_uri": "https://localhost:8080/"
        },
        "outputId": "8c39a178-c92a-44ea-eac5-64e5e4309e2a",
        "id": "87UgRKFDVIbR"
      },
      "execution_count": null,
      "outputs": [
        {
          "output_type": "stream",
          "name": "stdout",
          "text": [
            "Test Set Accuracy: 98.52%\n",
            "Test Set Loss: 0.09\n"
          ]
        }
      ]
    }
  ],
  "metadata": {
    "accelerator": "GPU",
    "colab": {
      "collapsed_sections": [],
      "name": "Final Project.ipynb",
      "provenance": [],
      "include_colab_link": true
    },
    "kernelspec": {
      "display_name": "Python 3",
      "name": "python3"
    },
    "language_info": {
      "name": "python"
    }
  },
  "nbformat": 4,
  "nbformat_minor": 0
}